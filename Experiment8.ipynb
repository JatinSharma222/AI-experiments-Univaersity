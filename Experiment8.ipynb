{
  "nbformat": 4,
  "nbformat_minor": 0,
  "metadata": {
    "colab": {
      "provenance": [],
      "authorship_tag": "ABX9TyO1Ki5HhlM1cSA19QZ9JTL6",
      "include_colab_link": true
    },
    "kernelspec": {
      "name": "python3",
      "display_name": "Python 3"
    },
    "language_info": {
      "name": "python"
    }
  },
  "cells": [
    {
      "cell_type": "markdown",
      "metadata": {
        "id": "view-in-github",
        "colab_type": "text"
      },
      "source": [
        "<a href=\"https://colab.research.google.com/github/JatinSharma222/AI-experiments-Univaersity/blob/main/Experiment8.ipynb\" target=\"_parent\"><img src=\"https://colab.research.google.com/assets/colab-badge.svg\" alt=\"Open In Colab\"/></a>"
      ]
    },
    {
      "cell_type": "markdown",
      "source": [
        "# Experiment 8\n",
        "Build KNN and SVM classifiers using scikit-learn\n",
        "\n"
      ],
      "metadata": {
        "id": "RrYgHolk9-n7"
      }
    },
    {
      "cell_type": "code",
      "source": [
        "# Import necessary libraries\n",
        "import pandas as pd\n",
        "from sklearn.model_selection import train_test_split\n",
        "from sklearn.preprocessing import LabelEncoder, StandardScaler\n",
        "from sklearn.neighbors import KNeighborsClassifier\n",
        "from sklearn.svm import SVC\n",
        "from sklearn.metrics import classification_report, accuracy_score\n"
      ],
      "metadata": {
        "id": "QkSuDZei-fOi"
      },
      "execution_count": 2,
      "outputs": []
    },
    {
      "cell_type": "code",
      "source": [
        "# Load the dataset\n",
        "data = pd.read_csv(\"/content/WineDataset.csv\")\n",
        "\n",
        "# Display the first few rows of the dataset\n",
        "data.head()\n",
        "\n",
        "# Check for null values and data types\n",
        "data.info()\n"
      ],
      "metadata": {
        "colab": {
          "base_uri": "https://localhost:8080/"
        },
        "id": "65CvT6yO-hyh",
        "outputId": "65a8c3ce-5952-4fdf-82d5-e484906eab54"
      },
      "execution_count": 3,
      "outputs": [
        {
          "output_type": "stream",
          "name": "stdout",
          "text": [
            "<class 'pandas.core.frame.DataFrame'>\n",
            "RangeIndex: 1290 entries, 0 to 1289\n",
            "Data columns (total 17 columns):\n",
            " #   Column                     Non-Null Count  Dtype  \n",
            "---  ------                     --------------  -----  \n",
            " 0   Title                      1290 non-null   object \n",
            " 1   Description                1286 non-null   object \n",
            " 2   Price                      1290 non-null   object \n",
            " 3   Capacity                   1290 non-null   object \n",
            " 4   Grape                      1275 non-null   object \n",
            " 5   Secondary Grape Varieties  488 non-null    object \n",
            " 6   Closure                    1279 non-null   object \n",
            " 7   Country                    1284 non-null   object \n",
            " 8   Unit                       1281 non-null   float64\n",
            " 9   Characteristics            1253 non-null   object \n",
            " 10  Per bottle / case / each   1290 non-null   object \n",
            " 11  Type                       1285 non-null   object \n",
            " 12  ABV                        1281 non-null   object \n",
            " 13  Region                     1124 non-null   object \n",
            " 14  Style                      1212 non-null   object \n",
            " 15  Vintage                    1283 non-null   object \n",
            " 16  Appellation                644 non-null    object \n",
            "dtypes: float64(1), object(16)\n",
            "memory usage: 171.5+ KB\n"
          ]
        }
      ]
    },
    {
      "cell_type": "code",
      "source": [
        "# Drop rows with missing values in relevant columns (adjust column names as needed)\n",
        "data = data.dropna(subset=['Type', 'Unit'])  # Replace 'Unit' with relevant numerical features\n",
        "\n",
        "# Select features and target\n",
        "features = ['Unit']  # Replace with appropriate numerical feature columns\n",
        "target = 'Type'\n",
        "\n",
        "# Encode the target variable\n",
        "label_encoder = LabelEncoder()\n",
        "data[target] = label_encoder.fit_transform(data[target])\n",
        "\n",
        "# Split features (X) and target (y)\n",
        "X = data[features]\n",
        "y = data[target]\n"
      ],
      "metadata": {
        "colab": {
          "base_uri": "https://localhost:8080/"
        },
        "id": "ooM8qNHp-nEe",
        "outputId": "50f0b4c4-7b93-4b58-88e0-b320058b7404"
      },
      "execution_count": 4,
      "outputs": [
        {
          "output_type": "stream",
          "name": "stderr",
          "text": [
            "<ipython-input-4-e8369ba46e8c>:10: SettingWithCopyWarning: \n",
            "A value is trying to be set on a copy of a slice from a DataFrame.\n",
            "Try using .loc[row_indexer,col_indexer] = value instead\n",
            "\n",
            "See the caveats in the documentation: https://pandas.pydata.org/pandas-docs/stable/user_guide/indexing.html#returning-a-view-versus-a-copy\n",
            "  data[target] = label_encoder.fit_transform(data[target])\n"
          ]
        }
      ]
    },
    {
      "cell_type": "code",
      "source": [
        "# Scale the features\n",
        "scaler = StandardScaler()\n",
        "X = scaler.fit_transform(X)\n",
        "\n",
        "# Split the data into training and testing sets\n",
        "X_train, X_test, y_train, y_test = train_test_split(X, y, test_size=0.2, random_state=42)\n"
      ],
      "metadata": {
        "id": "jPaH2oW1-prY"
      },
      "execution_count": 5,
      "outputs": []
    },
    {
      "cell_type": "code",
      "source": [
        "# Build and train KNN classifier\n",
        "knn = KNeighborsClassifier(n_neighbors=5)\n",
        "knn.fit(X_train, y_train)\n",
        "\n",
        "# Make predictions with KNN\n",
        "y_pred_knn = knn.predict(X_test)\n",
        "\n",
        "# Evaluate KNN\n",
        "print(\"KNN Classification Report:\")\n",
        "print(classification_report(y_test, y_pred_knn))\n",
        "print(\"KNN Accuracy:\", accuracy_score(y_test, y_pred_knn))\n"
      ],
      "metadata": {
        "colab": {
          "base_uri": "https://localhost:8080/"
        },
        "id": "1ospIWHa-sos",
        "outputId": "66692861-cb2c-477a-f1e8-5c807279fd59"
      },
      "execution_count": 6,
      "outputs": [
        {
          "output_type": "stream",
          "name": "stdout",
          "text": [
            "KNN Classification Report:\n",
            "              precision    recall  f1-score   support\n",
            "\n",
            "           2       0.86      0.58      0.69       131\n",
            "           3       0.50      0.10      0.16        21\n",
            "           4       0.33      1.00      0.50         1\n",
            "           5       0.56      0.87      0.68       103\n",
            "\n",
            "    accuracy                           0.66       256\n",
            "   macro avg       0.56      0.64      0.51       256\n",
            "weighted avg       0.71      0.66      0.64       256\n",
            "\n",
            "KNN Accuracy: 0.66015625\n"
          ]
        }
      ]
    },
    {
      "cell_type": "code",
      "source": [
        "# Build and train SVM classifier\n",
        "svm = SVC(kernel='linear', C=1.0)\n",
        "svm.fit(X_train, y_train)\n",
        "\n",
        "# Make predictions with SVM\n",
        "y_pred_svm = svm.predict(X_test)\n",
        "\n",
        "# Evaluate SVM\n",
        "print(\"SVM Classification Report:\")\n",
        "print(classification_report(y_test, y_pred_svm))\n",
        "print(\"SVM Accuracy:\", accuracy_score(y_test, y_pred_svm))\n"
      ],
      "metadata": {
        "colab": {
          "base_uri": "https://localhost:8080/"
        },
        "id": "tqpvWzEH-uxa",
        "outputId": "fa0ea7a5-7aec-4e1a-df18-1f9c251ac248"
      },
      "execution_count": 7,
      "outputs": [
        {
          "output_type": "stream",
          "name": "stdout",
          "text": [
            "SVM Classification Report:\n",
            "              precision    recall  f1-score   support\n",
            "\n",
            "           2       0.70      0.79      0.74       131\n",
            "           3       0.00      0.00      0.00        21\n",
            "           4       0.00      0.00      0.00         1\n",
            "           5       0.61      0.64      0.62       103\n",
            "\n",
            "    accuracy                           0.66       256\n",
            "   macro avg       0.33      0.36      0.34       256\n",
            "weighted avg       0.60      0.66      0.63       256\n",
            "\n",
            "SVM Accuracy: 0.66015625\n"
          ]
        },
        {
          "output_type": "stream",
          "name": "stderr",
          "text": [
            "/usr/local/lib/python3.10/dist-packages/sklearn/metrics/_classification.py:1531: UndefinedMetricWarning: Precision is ill-defined and being set to 0.0 in labels with no predicted samples. Use `zero_division` parameter to control this behavior.\n",
            "  _warn_prf(average, modifier, f\"{metric.capitalize()} is\", len(result))\n",
            "/usr/local/lib/python3.10/dist-packages/sklearn/metrics/_classification.py:1531: UndefinedMetricWarning: Precision is ill-defined and being set to 0.0 in labels with no predicted samples. Use `zero_division` parameter to control this behavior.\n",
            "  _warn_prf(average, modifier, f\"{metric.capitalize()} is\", len(result))\n",
            "/usr/local/lib/python3.10/dist-packages/sklearn/metrics/_classification.py:1531: UndefinedMetricWarning: Precision is ill-defined and being set to 0.0 in labels with no predicted samples. Use `zero_division` parameter to control this behavior.\n",
            "  _warn_prf(average, modifier, f\"{metric.capitalize()} is\", len(result))\n"
          ]
        }
      ]
    }
  ]
}