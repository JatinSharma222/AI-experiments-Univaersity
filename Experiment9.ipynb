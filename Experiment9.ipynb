{
  "nbformat": 4,
  "nbformat_minor": 0,
  "metadata": {
    "colab": {
      "provenance": [],
      "authorship_tag": "ABX9TyNs1Y0DSEdN/YCvwmbTCXy6",
      "include_colab_link": true
    },
    "kernelspec": {
      "name": "python3",
      "display_name": "Python 3"
    },
    "language_info": {
      "name": "python"
    }
  },
  "cells": [
    {
      "cell_type": "markdown",
      "metadata": {
        "id": "view-in-github",
        "colab_type": "text"
      },
      "source": [
        "<a href=\"https://colab.research.google.com/github/JatinSharma222/AI-experiments-Univaersity/blob/main/Experiment9.ipynb\" target=\"_parent\"><img src=\"https://colab.research.google.com/assets/colab-badge.svg\" alt=\"Open In Colab\"/></a>"
      ]
    },
    {
      "cell_type": "markdown",
      "source": [
        "# Experiment 9\n",
        "Construct decision trees and ensemble methods like Random Forest and Gradient Boosting"
      ],
      "metadata": {
        "id": "hqFIeEMTDbT1"
      }
    },
    {
      "cell_type": "code",
      "source": [
        "# Import necessary libraries\n",
        "from sklearn.tree import DecisionTreeClassifier\n",
        "from sklearn.ensemble import RandomForestClassifier, GradientBoostingClassifier\n",
        "from sklearn.model_selection import train_test_split\n",
        "from sklearn.metrics import accuracy_score, classification_report, confusion_matrix\n",
        "import pandas as pd\n"
      ],
      "metadata": {
        "id": "eF3jV9NJE28Q"
      },
      "execution_count": 1,
      "outputs": []
    },
    {
      "cell_type": "code",
      "source": [
        "data = pd.read_csv('/content/breast-cancer.csv')\n",
        "\n",
        "df = pd.DataFrame(data)"
      ],
      "metadata": {
        "id": "p7oGHfVRE37K"
      },
      "execution_count": 2,
      "outputs": []
    },
    {
      "cell_type": "code",
      "source": [
        "# Preprocessing steps\n",
        "# Map diagnosis to binary labels (M: 1, B: 0)\n",
        "df['diagnosis'] = df['diagnosis'].map({'M': 1, 'B': 0})\n",
        "\n",
        "# Drop 'id' column as it's not relevant for modeling\n",
        "df = df.drop(columns=['id'])\n",
        "\n",
        "# Features and target variable\n",
        "X = df.drop(columns=['diagnosis'])\n",
        "y = df['diagnosis']\n"
      ],
      "metadata": {
        "id": "Ww72-bEfFIWU"
      },
      "execution_count": 3,
      "outputs": []
    },
    {
      "cell_type": "code",
      "source": [
        "# Train-test split\n",
        "X_train, X_test, y_train, y_test = train_test_split(X, y, test_size=0.3, random_state=42)\n"
      ],
      "metadata": {
        "id": "l4F4PqS4FLG3"
      },
      "execution_count": 4,
      "outputs": []
    },
    {
      "cell_type": "code",
      "source": [
        "# Decision Tree Classifier\n",
        "dt_model = DecisionTreeClassifier(random_state=42)\n",
        "dt_model.fit(X_train, y_train)\n",
        "y_pred_dt = dt_model.predict(X_test)\n"
      ],
      "metadata": {
        "id": "utly1Wv-FNOd"
      },
      "execution_count": 5,
      "outputs": []
    },
    {
      "cell_type": "code",
      "source": [
        "# Random Forest Classifier\n",
        "rf_model = RandomForestClassifier(random_state=42, n_estimators=100)\n",
        "rf_model.fit(X_train, y_train)\n",
        "y_pred_rf = rf_model.predict(X_test)\n"
      ],
      "metadata": {
        "id": "PITuJhlBFOqQ"
      },
      "execution_count": 6,
      "outputs": []
    },
    {
      "cell_type": "code",
      "source": [
        "# Gradient Boosting Classifier\n",
        "gb_model = GradientBoostingClassifier(random_state=42, n_estimators=100)\n",
        "gb_model.fit(X_train, y_train)\n",
        "y_pred_gb = gb_model.predict(X_test)\n"
      ],
      "metadata": {
        "id": "ZNLYwygAFRJi"
      },
      "execution_count": 7,
      "outputs": []
    },
    {
      "cell_type": "code",
      "source": [
        "# Function to evaluate models\n",
        "def evaluate_model(y_true, y_pred, model_name):\n",
        "    print(f\"Evaluation Metrics for {model_name}\")\n",
        "    print(\"Accuracy:\", accuracy_score(y_true, y_pred))\n",
        "    print(\"Confusion Matrix:\\n\", confusion_matrix(y_true, y_pred))\n",
        "    print(\"Classification Report:\\n\", classification_report(y_true, y_pred))\n",
        "    print(\"\\n\")\n"
      ],
      "metadata": {
        "id": "HnAVVKTjFS4W"
      },
      "execution_count": 8,
      "outputs": []
    },
    {
      "cell_type": "code",
      "source": [
        "# Evaluate Decision Tree\n",
        "evaluate_model(y_test, y_pred_dt, \"Decision Tree\")\n",
        "\n",
        "# Evaluate Random Forest\n",
        "evaluate_model(y_test, y_pred_rf, \"Random Forest\")\n",
        "\n",
        "# Evaluate Gradient Boosting\n",
        "evaluate_model(y_test, y_pred_gb, \"Gradient Boosting\")\n"
      ],
      "metadata": {
        "colab": {
          "base_uri": "https://localhost:8080/"
        },
        "id": "lOp4MLqOFU4i",
        "outputId": "3ae5cafa-1352-4cd5-f558-511ced48fd0c"
      },
      "execution_count": 9,
      "outputs": [
        {
          "output_type": "stream",
          "name": "stdout",
          "text": [
            "Evaluation Metrics for Decision Tree\n",
            "Accuracy: 0.9415204678362573\n",
            "Confusion Matrix:\n",
            " [[101   7]\n",
            " [  3  60]]\n",
            "Classification Report:\n",
            "               precision    recall  f1-score   support\n",
            "\n",
            "           0       0.97      0.94      0.95       108\n",
            "           1       0.90      0.95      0.92        63\n",
            "\n",
            "    accuracy                           0.94       171\n",
            "   macro avg       0.93      0.94      0.94       171\n",
            "weighted avg       0.94      0.94      0.94       171\n",
            "\n",
            "\n",
            "\n",
            "Evaluation Metrics for Random Forest\n",
            "Accuracy: 0.9707602339181286\n",
            "Confusion Matrix:\n",
            " [[107   1]\n",
            " [  4  59]]\n",
            "Classification Report:\n",
            "               precision    recall  f1-score   support\n",
            "\n",
            "           0       0.96      0.99      0.98       108\n",
            "           1       0.98      0.94      0.96        63\n",
            "\n",
            "    accuracy                           0.97       171\n",
            "   macro avg       0.97      0.96      0.97       171\n",
            "weighted avg       0.97      0.97      0.97       171\n",
            "\n",
            "\n",
            "\n",
            "Evaluation Metrics for Gradient Boosting\n",
            "Accuracy: 0.9590643274853801\n",
            "Confusion Matrix:\n",
            " [[105   3]\n",
            " [  4  59]]\n",
            "Classification Report:\n",
            "               precision    recall  f1-score   support\n",
            "\n",
            "           0       0.96      0.97      0.97       108\n",
            "           1       0.95      0.94      0.94        63\n",
            "\n",
            "    accuracy                           0.96       171\n",
            "   macro avg       0.96      0.95      0.96       171\n",
            "weighted avg       0.96      0.96      0.96       171\n",
            "\n",
            "\n",
            "\n"
          ]
        }
      ]
    }
  ]
}